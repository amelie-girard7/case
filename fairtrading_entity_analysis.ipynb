{
 "cells": [
  {
   "cell_type": "markdown",
   "id": "648bff48",
   "metadata": {},
   "source": [
    "# Fair Trading Entity Analysis\n",
    "This notebook demonstrates:\n",
    "1. A 'single view' function aggregating all known data for a regulated entity.\n",
    "2. Building a relationship graph (companies and directors).\n",
    "3. Finding related entities via shared directors.\n",
    "4. Detecting potential phoenix patterns based on director movements.\n",
    "\n",
    "Example DataFrames are provided; replace with real data for production use."
   ]
  },
  {
   "cell_type": "code",
   "execution_count": 1,
   "id": "a0467940",
   "metadata": {},
   "outputs": [],
   "source": [
    "# Imports\n",
    "import pandas as pd\n",
    "import networkx as nx\n"
   ]
  },
  {
   "cell_type": "markdown",
   "id": "5a541c88",
   "metadata": {},
   "source": [
    "## Identifier Normalization"
   ]
  },
  {
   "cell_type": "code",
   "execution_count": 2,
   "id": "1c48625a",
   "metadata": {},
   "outputs": [],
   "source": [
    "# Normalize ACN/ABN by removing spaces (example). Adjust as needed for real formats.\n",
    "def normalize_id(val):\n",
    "    if isinstance(val, str):\n",
    "        return val.replace(' ', '')\n",
    "    return val\n"
   ]
  },
  {
   "cell_type": "markdown",
   "id": "11f934ab",
   "metadata": {},
   "source": [
    "## Example DataFrames"
   ]
  },
  {
   "cell_type": "code",
   "execution_count": 3,
   "id": "848e85b1",
   "metadata": {},
   "outputs": [
    {
     "name": "stdout",
     "output_type": "stream",
     "text": [
      "ASIC directors example:\n"
     ]
    },
    {
     "data": {
      "text/html": [
       "<div>\n",
       "<style scoped>\n",
       "    .dataframe tbody tr th:only-of-type {\n",
       "        vertical-align: middle;\n",
       "    }\n",
       "\n",
       "    .dataframe tbody tr th {\n",
       "        vertical-align: top;\n",
       "    }\n",
       "\n",
       "    .dataframe thead th {\n",
       "        text-align: right;\n",
       "    }\n",
       "</style>\n",
       "<table border=\"1\" class=\"dataframe\">\n",
       "  <thead>\n",
       "    <tr style=\"text-align: right;\">\n",
       "      <th></th>\n",
       "      <th>ACN</th>\n",
       "      <th>CompanyName</th>\n",
       "      <th>DirectorName</th>\n",
       "      <th>AppointmentDate</th>\n",
       "      <th>CessationDate</th>\n",
       "    </tr>\n",
       "  </thead>\n",
       "  <tbody>\n",
       "    <tr>\n",
       "      <th>0</th>\n",
       "      <td>123456789</td>\n",
       "      <td>ABC Pty Ltd</td>\n",
       "      <td>John Smith</td>\n",
       "      <td>2020-05-15</td>\n",
       "      <td>None</td>\n",
       "    </tr>\n",
       "    <tr>\n",
       "      <th>1</th>\n",
       "      <td>987654321</td>\n",
       "      <td>XYZ Holdings Pty Ltd</td>\n",
       "      <td>Jane Doe</td>\n",
       "      <td>2018-03-10</td>\n",
       "      <td>2023-11-30</td>\n",
       "    </tr>\n",
       "  </tbody>\n",
       "</table>\n",
       "</div>"
      ],
      "text/plain": [
       "         ACN           CompanyName DirectorName AppointmentDate CessationDate\n",
       "0  123456789           ABC Pty Ltd   John Smith      2020-05-15          None\n",
       "1  987654321  XYZ Holdings Pty Ltd     Jane Doe      2018-03-10    2023-11-30"
      ]
     },
     "metadata": {},
     "output_type": "display_data"
    },
    {
     "name": "stdout",
     "output_type": "stream",
     "text": [
      "ABR example:\n"
     ]
    },
    {
     "data": {
      "text/html": [
       "<div>\n",
       "<style scoped>\n",
       "    .dataframe tbody tr th:only-of-type {\n",
       "        vertical-align: middle;\n",
       "    }\n",
       "\n",
       "    .dataframe tbody tr th {\n",
       "        vertical-align: top;\n",
       "    }\n",
       "\n",
       "    .dataframe thead th {\n",
       "        text-align: right;\n",
       "    }\n",
       "</style>\n",
       "<table border=\"1\" class=\"dataframe\">\n",
       "  <thead>\n",
       "    <tr style=\"text-align: right;\">\n",
       "      <th></th>\n",
       "      <th>ABN</th>\n",
       "      <th>LegalName</th>\n",
       "      <th>BusinessNames</th>\n",
       "      <th>TradingNames</th>\n",
       "      <th>State</th>\n",
       "      <th>Postcode</th>\n",
       "      <th>ACN</th>\n",
       "      <th>GSTStatus</th>\n",
       "      <th>RegistrationDate</th>\n",
       "    </tr>\n",
       "  </thead>\n",
       "  <tbody>\n",
       "    <tr>\n",
       "      <th>0</th>\n",
       "      <td>12345678901</td>\n",
       "      <td>Alpha Innovations Pty Ltd</td>\n",
       "      <td>[Alpha Innovations]</td>\n",
       "      <td>[Alpha Tech, Alpha Solutions]</td>\n",
       "      <td>NSW</td>\n",
       "      <td>2000</td>\n",
       "      <td>123456789</td>\n",
       "      <td>Active</td>\n",
       "      <td>2019-07-01</td>\n",
       "    </tr>\n",
       "    <tr>\n",
       "      <th>1</th>\n",
       "      <td>98765432109</td>\n",
       "      <td>Beta Services Pty Ltd</td>\n",
       "      <td>[Beta Services]</td>\n",
       "      <td>[Beta Consulting]</td>\n",
       "      <td>NSW</td>\n",
       "      <td>2140</td>\n",
       "      <td>987654321</td>\n",
       "      <td>Active</td>\n",
       "      <td>2021-02-15</td>\n",
       "    </tr>\n",
       "  </tbody>\n",
       "</table>\n",
       "</div>"
      ],
      "text/plain": [
       "           ABN                  LegalName        BusinessNames  \\\n",
       "0  12345678901  Alpha Innovations Pty Ltd  [Alpha Innovations]   \n",
       "1  98765432109      Beta Services Pty Ltd      [Beta Services]   \n",
       "\n",
       "                    TradingNames State Postcode        ACN GSTStatus  \\\n",
       "0  [Alpha Tech, Alpha Solutions]   NSW     2000  123456789    Active   \n",
       "1              [Beta Consulting]   NSW     2140  987654321    Active   \n",
       "\n",
       "  RegistrationDate  \n",
       "0       2019-07-01  \n",
       "1       2021-02-15  "
      ]
     },
     "metadata": {},
     "output_type": "display_data"
    }
   ],
   "source": [
    "# Example ASIC directors/officers data\n",
    "asic_directors_example = pd.DataFrame([\n",
    "    {'ACN': '123456789', 'CompanyName': 'ABC Pty Ltd', 'DirectorName': 'John Smith', 'AppointmentDate': '2020-05-15', 'CessationDate': None},\n",
    "    {'ACN': '987654321', 'CompanyName': 'XYZ Holdings Pty Ltd', 'DirectorName': 'Jane Doe', 'AppointmentDate': '2018-03-10', 'CessationDate': '2023-11-30'}\n",
    "])\n",
    "# Example ABR data\n",
    "abr_example = pd.DataFrame([\n",
    "    {'ABN': '12 345 678 901', 'LegalName': 'Alpha Innovations Pty Ltd', 'BusinessNames': ['Alpha Innovations'], 'TradingNames': ['Alpha Tech', 'Alpha Solutions'], 'State': 'NSW', 'Postcode': '2000', 'ACN': '123456789', 'GSTStatus': 'Active', 'RegistrationDate': '2019-07-01'},\n",
    "    {'ABN': '98 765 432 109', 'LegalName': 'Beta Services Pty Ltd', 'BusinessNames': ['Beta Services'], 'TradingNames': ['Beta Consulting'], 'State': 'NSW', 'Postcode': '2140', 'ACN': '987654321', 'GSTStatus': 'Active', 'RegistrationDate': '2021-02-15'}\n",
    "])\n",
    "# Example complaints\n",
    "complaints_example = pd.DataFrame([\n",
    "    {'ComplaintID': 'C202401001', 'BusinessName': 'ABC Pty Ltd', 'ABN': '12 345 678 901', 'DateReceived': '2024-06-01', 'IssueCategory': 'Product quality', 'Status': 'Resolved'},\n",
    "    {'ComplaintID': 'C202402015', 'BusinessName': 'XYZ Holdings Pty Ltd', 'ABN': '98 765 432 109', 'DateReceived': '2024-05-20', 'IssueCategory': 'Misleading advertising', 'Status': 'Under investigation'}\n",
    "])\n",
    "# Example inspections\n",
    "inspections_example = pd.DataFrame([\n",
    "    {'InspectionID': 'I20230101', 'BusinessName': 'ABC Pty Ltd', 'ABN': '12 345 678 901', 'InspectionDate': '2023-10-15', 'Location': 'Sydney', 'Outcome': 'Compliant', 'InspectorName': 'Alice Brown', 'Notes': 'No issues found'},\n",
    "    {'InspectionID': 'I20230202', 'BusinessName': 'Beta Services Pty Ltd', 'ABN': '98 765 432 109', 'InspectionDate': '2024-03-22', 'Location': 'Parramatta', 'Outcome': 'Non-compliant', 'InspectorName': 'Bob Green', 'Notes': 'Labeling issues; follow-up required'}\n",
    "])\n",
    "# Example investigations\n",
    "investigations_example = pd.DataFrame([\n",
    "    {'InvestigationID': 'INV2024001', 'BusinessName': 'XYZ Holdings Pty Ltd', 'ABN': '98 765 432 109', 'StartDate': '2024-05-25', 'EndDate': None, 'Outcome': 'Ongoing', 'RelatedEntities': ['Alpha Innovations Pty Ltd']},\n",
    "    {'InvestigationID': 'INV2023005', 'BusinessName': 'Gamma Trading Pty Ltd', 'ABN': '11 222 333 444', 'StartDate': '2023-01-10', 'EndDate': '2023-12-05', 'Outcome': 'Enforcement action taken', 'RelatedEntities': []}\n",
    "])\n",
    "# Normalize IDs in example DataFrames\n",
    "asic_directors_example['ACN'] = asic_directors_example['ACN'].apply(normalize_id)\n",
    "abr_example['ACN'] = abr_example['ACN'].apply(normalize_id)\n",
    "abr_example['ABN'] = abr_example['ABN'].apply(normalize_id)\n",
    "complaints_example['ABN'] = complaints_example['ABN'].apply(normalize_id)\n",
    "inspections_example['ABN'] = inspections_example['ABN'].apply(normalize_id)\n",
    "investigations_example['ABN'] = investigations_example['ABN'].apply(normalize_id)\n",
    "# Display examples (optional)\n",
    "print('ASIC directors example:'); display(asic_directors_example)\n",
    "print('ABR example:'); display(abr_example)\n"
   ]
  },
  {
   "cell_type": "markdown",
   "id": "c422eef1",
   "metadata": {},
   "source": [
    "## Single View Function"
   ]
  },
  {
   "cell_type": "code",
   "execution_count": 12,
   "id": "20e56800",
   "metadata": {},
   "outputs": [],
   "source": [
    "def get_single_view(acn=None, abn=None):\n",
    "    \"\"\"Return aggregated info for an entity by ACN or ABN.\"\"\"\n",
    "    result = {}\n",
    "    # If ACN provided: fetch ASIC and ABR info\n",
    "    if acn:\n",
    "        acn_norm = normalize_id(acn)\n",
    "        df_dir = asic_directors_example[asic_directors_example['ACN'] == acn_norm]\n",
    "        if not df_dir.empty:\n",
    "            result['CompanyName_ASIC'] = df_dir.iloc[0]['CompanyName']\n",
    "        df_abr = abr_example[abr_example['ACN'] == acn_norm]\n",
    "        if not df_abr.empty:\n",
    "            abr_row = df_abr.iloc[0]\n",
    "            result.update({\n",
    "                'LegalName_ABR': abr_row['LegalName'],\n",
    "                'BusinessNames': abr_row['BusinessNames'],\n",
    "                'TradingNames': abr_row['TradingNames'],\n",
    "                'ABN': abr_row['ABN'],\n",
    "                'State': abr_row['State'],\n",
    "                'Postcode': abr_row['Postcode'],\n",
    "                'GSTStatus': abr_row['GSTStatus'],\n",
    "                'RegistrationDate': abr_row['RegistrationDate']\n",
    "            })\n",
    "        else:\n",
    "            result['ABR_record'] = 'Not found'\n",
    "    # If ABN provided: fetch ABR, and related data\n",
    "    if abn:\n",
    "        abn_norm = normalize_id(abn)\n",
    "        df_abr2 = abr_example[abr_example['ABN'] == abn_norm]\n",
    "        if not df_abr2.empty:\n",
    "            abr_row2 = df_abr2.iloc[0]\n",
    "            result.setdefault('LegalName_ABR', abr_row2['LegalName'])\n",
    "            result.setdefault('BusinessNames', abr_row2['BusinessNames'])\n",
    "            result.setdefault('TradingNames', abr_row2['TradingNames'])\n",
    "            result.setdefault('ACN', abr_row2['ACN'])\n",
    "            result.setdefault('State', abr_row2['State'])\n",
    "            result.setdefault('Postcode', abr_row2['Postcode'])\n",
    "            result.setdefault('GSTStatus', abr_row2['GSTStatus'])\n",
    "            result.setdefault('RegistrationDate', abr_row2['RegistrationDate'])\n",
    "        else:\n",
    "            result['ABR_record'] = 'Not found'\n",
    "        # Complaints\n",
    "        df_com = complaints_example[complaints_example['ABN'] == abn_norm]\n",
    "        result['Complaints'] = df_com.to_dict(orient='records') if not df_com.empty else []\n",
    "        # Inspections\n",
    "        df_ins = inspections_example[inspections_example['ABN'] == abn_norm]\n",
    "        result['Inspections'] = df_ins.to_dict(orient='records') if not df_ins.empty else []\n",
    "        # Investigations\n",
    "        df_inv = investigations_example[investigations_example['ABN'] == abn_norm]\n",
    "        result['Investigations'] = df_inv.to_dict(orient='records') if not df_inv.empty else []\n",
    "    # Directors if ACN known\n",
    "    if 'ACN' in result:\n",
    "        df_dir2 = asic_directors_example[asic_directors_example['ACN'] == normalize_id(result['ACN'])]\n",
    "        result['Directors'] = df_dir2.to_dict(orient='records') if not df_dir2.empty else []\n",
    "    return result\n"
   ]
  },
  {
   "cell_type": "markdown",
   "id": "a7fe349f",
   "metadata": {},
   "source": [
    "### Demonstrate Single View"
   ]
  },
  {
   "cell_type": "code",
   "execution_count": 5,
   "id": "7f30d731",
   "metadata": {},
   "outputs": [
    {
     "name": "stdout",
     "output_type": "stream",
     "text": [
      "Single view ABC Pty Ltd:\n",
      "Single view XYZ Holdings Pty Ltd:\n"
     ]
    },
    {
     "data": {
      "text/plain": [
       "{'LegalName_ABR': 'Beta Services Pty Ltd',\n",
       " 'BusinessNames': ['Beta Services'],\n",
       " 'TradingNames': ['Beta Consulting'],\n",
       " 'ACN': '987654321',\n",
       " 'State': 'NSW',\n",
       " 'Postcode': '2140',\n",
       " 'GSTStatus': 'Active',\n",
       " 'RegistrationDate': '2021-02-15',\n",
       " 'Complaints': [{'ComplaintID': 'C202402015',\n",
       "   'BusinessName': 'XYZ Holdings Pty Ltd',\n",
       "   'ABN': '98765432109',\n",
       "   'DateReceived': '2024-05-20',\n",
       "   'IssueCategory': 'Misleading advertising',\n",
       "   'Status': 'Under investigation'}],\n",
       " 'Inspections': [{'InspectionID': 'I20230202',\n",
       "   'BusinessName': 'Beta Services Pty Ltd',\n",
       "   'ABN': '98765432109',\n",
       "   'InspectionDate': '2024-03-22',\n",
       "   'Location': 'Parramatta',\n",
       "   'Outcome': 'Non-compliant',\n",
       "   'InspectorName': 'Bob Green',\n",
       "   'Notes': 'Labeling issues; follow-up required'}],\n",
       " 'Investigations': [{'InvestigationID': 'INV2024001',\n",
       "   'BusinessName': 'XYZ Holdings Pty Ltd',\n",
       "   'ABN': '98765432109',\n",
       "   'StartDate': '2024-05-25',\n",
       "   'EndDate': None,\n",
       "   'Outcome': 'Ongoing',\n",
       "   'RelatedEntities': ['Alpha Innovations Pty Ltd']}],\n",
       " 'Directors': [{'ACN': '987654321',\n",
       "   'CompanyName': 'XYZ Holdings Pty Ltd',\n",
       "   'DirectorName': 'Jane Doe',\n",
       "   'AppointmentDate': '2018-03-10',\n",
       "   'CessationDate': '2023-11-30'}]}"
      ]
     },
     "execution_count": 5,
     "metadata": {},
     "output_type": "execute_result"
    }
   ],
   "source": [
    "# Single view for example entities\n",
    "sv_abc = get_single_view(acn='123456789')\n",
    "sv_xyz = get_single_view(abn='98 765 432 109')\n",
    "print('Single view ABC Pty Ltd:'); sv_abc\n",
    "print('Single view XYZ Holdings Pty Ltd:'); sv_xyz"
   ]
  },
  {
   "cell_type": "markdown",
   "id": "d5521a98",
   "metadata": {},
   "source": [
    "## Relationship Graph"
   ]
  },
  {
   "cell_type": "code",
   "execution_count": 13,
   "id": "1081016e",
   "metadata": {},
   "outputs": [],
   "source": [
    "def build_relationship_graph():\n",
    "    G = nx.Graph()\n",
    "    for _, row in asic_directors_example.iterrows():\n",
    "        comp_node = f\"ACN:{normalize_id(row['ACN'])}\"\n",
    "        person_node = f\"Person:{row['DirectorName']}\"\n",
    "        G.add_node(comp_node, type='company')\n",
    "        G.add_node(person_node, type='person')\n",
    "        G.add_edge(comp_node, person_node,\n",
    "                   relation='director',\n",
    "                   appointment=row['AppointmentDate'],\n",
    "                   cessation=row['CessationDate'])\n",
    "    return G\n"
   ]
  },
  {
   "cell_type": "markdown",
   "id": "d868a228",
   "metadata": {},
   "source": [
    "### Finding Related Entities"
   ]
  },
  {
   "cell_type": "code",
   "execution_count": 7,
   "id": "1634b40e",
   "metadata": {},
   "outputs": [],
   "source": [
    "def find_related_entities(graph, acn):\n",
    "    \"\"\"Return ACNs related via shared directors.\"\"\"\n",
    "    node = f\"ACN:{normalize_id(acn)}\"\n",
    "    related = set()\n",
    "    if not graph.has_node(node):\n",
    "        return related\n",
    "    for person in graph.neighbors(node):\n",
    "        for nbr in graph.neighbors(person):\n",
    "            if nbr.startswith('ACN:') and nbr != node:\n",
    "                related.add(nbr.replace('ACN:', ''))\n",
    "    return related\n"
   ]
  },
  {
   "cell_type": "markdown",
   "id": "412cc579",
   "metadata": {},
   "source": [
    "### Demonstrate Related Entities"
   ]
  },
  {
   "cell_type": "code",
   "execution_count": 8,
   "id": "7e539dbc",
   "metadata": {},
   "outputs": [
    {
     "name": "stdout",
     "output_type": "stream",
     "text": [
      "Related ACNs for ABC Pty Ltd: set()\n"
     ]
    }
   ],
   "source": [
    "G = build_relationship_graph()\n",
    "related_abc = find_related_entities(G, acn='123456789')\n",
    "print('Related ACNs for ABC Pty Ltd:', related_abc)\n"
   ]
  },
  {
   "cell_type": "markdown",
   "id": "0002dbd5",
   "metadata": {},
   "source": [
    "## Phoenix Pattern Detection"
   ]
  },
  {
   "cell_type": "code",
   "execution_count": 14,
   "id": "9515884c",
   "metadata": {},
   "outputs": [],
   "source": [
    "def detect_phoenix_candidates(asic_df, window_days=180):\n",
    "    \"\"\"Identify director movements suggesting phoenix behavior.\"\"\"\n",
    "    # Parse dates\n",
    "    df = asic_df.copy()\n",
    "    df['AppointmentDate'] = pd.to_datetime(df['AppointmentDate'])\n",
    "    df['CessationDate'] = pd.to_datetime(df['CessationDate'], errors='coerce')\n",
    "    candidates = []\n",
    "    for person, group in df.groupby('DirectorName'):\n",
    "        group_sorted = group.sort_values('AppointmentDate')\n",
    "        for i, row_a in group_sorted.iterrows():\n",
    "            if pd.isna(row_a['CessationDate']):\n",
    "                continue\n",
    "            cease_date = row_a['CessationDate']\n",
    "            later = group_sorted[group_sorted['AppointmentDate'] > cease_date]\n",
    "            for j, row_b in later.iterrows():\n",
    "                if (row_b['AppointmentDate'] - cease_date).days <= window_days:\n",
    "                    candidates.append({\n",
    "                        'Director': person,\n",
    "                        'OldACN': row_a['ACN'],\n",
    "                        'NewACN': row_b['ACN'],\n",
    "                        'CessationDate': cease_date.date(),\n",
    "                        'NewAppointmentDate': row_b['AppointmentDate'].date()\n",
    "                    })\n",
    "    return pd.DataFrame(candidates)\n"
   ]
  },
  {
   "cell_type": "markdown",
   "id": "d686fbbd",
   "metadata": {},
   "source": [
    "### Demonstrate Phoenix Detection"
   ]
  },
  {
   "cell_type": "code",
   "execution_count": 10,
   "id": "5b2afdcb",
   "metadata": {},
   "outputs": [
    {
     "name": "stdout",
     "output_type": "stream",
     "text": [
      "Phoenix candidates (example):\n"
     ]
    },
    {
     "data": {
      "text/html": [
       "<div>\n",
       "<style scoped>\n",
       "    .dataframe tbody tr th:only-of-type {\n",
       "        vertical-align: middle;\n",
       "    }\n",
       "\n",
       "    .dataframe tbody tr th {\n",
       "        vertical-align: top;\n",
       "    }\n",
       "\n",
       "    .dataframe thead th {\n",
       "        text-align: right;\n",
       "    }\n",
       "</style>\n",
       "<table border=\"1\" class=\"dataframe\">\n",
       "  <thead>\n",
       "    <tr style=\"text-align: right;\">\n",
       "      <th></th>\n",
       "    </tr>\n",
       "  </thead>\n",
       "  <tbody>\n",
       "  </tbody>\n",
       "</table>\n",
       "</div>"
      ],
      "text/plain": [
       "Empty DataFrame\n",
       "Columns: []\n",
       "Index: []"
      ]
     },
     "execution_count": 10,
     "metadata": {},
     "output_type": "execute_result"
    }
   ],
   "source": [
    "# Using example asic_directors_example\n",
    "phoenix_df = detect_phoenix_candidates(asic_directors_example)\n",
    "print('Phoenix candidates (example):'); phoenix_df"
   ]
  },
  {
   "cell_type": "markdown",
   "id": "70ac261f",
   "metadata": {},
   "source": [
    "## Next Steps\n",
    "1. Replace example DataFrames with real datasets loaded from APIs or databases.\n",
    "2. Enhance single view: include summary counts, last dates, risk scoring.\n",
    "3. Extend graph: add shareholding edges, investigation links, addresses.\n",
    "4. Scale graph: consider graph database (e.g., Neo4j) for large volumes.\n",
    "5. Automate: schedule regular updates and alerts for new phoenix patterns.\n"
   ]
  }
 ],
 "metadata": {
  "kernelspec": {
   "display_name": "Python 3",
   "language": "python",
   "name": "python3"
  },
  "language_info": {
   "codemirror_mode": {
    "name": "ipython",
    "version": 3
   },
   "file_extension": ".py",
   "mimetype": "text/x-python",
   "name": "python",
   "nbconvert_exporter": "python",
   "pygments_lexer": "ipython3",
   "version": "3.12.1"
  }
 },
 "nbformat": 4,
 "nbformat_minor": 5
}
