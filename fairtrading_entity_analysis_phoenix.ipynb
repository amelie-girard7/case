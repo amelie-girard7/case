{
 "cells": [
  {
   "cell_type": "markdown",
   "id": "3cb4920e",
   "metadata": {},
   "source": [
    "# Fair Trading Entity Analysis with Phoenix Example\n",
    "This notebook illustrates:\n",
    "1. Getting a 'single view' of everything Fair Trading knows about a regulated entity.\n",
    "2. Understanding relationships between regulated entities (current and historical) to target investigations and detect phoenixing behaviors.\n",
    "3. An illustrative example of a phoenixing scenario with synthetic data.\n",
    "\n",
    "Replace example data with real datasets for production use.\n"
   ]
  },
  {
   "cell_type": "markdown",
   "id": "276f741c",
   "metadata": {},
   "source": [
    "## 1. Setup and Imports\n",
    "Import necessary libraries. Pandas for data manipulation and NetworkX for graph analysis."
   ]
  },
  {
   "cell_type": "code",
   "execution_count": 1,
   "id": "a2eece7a",
   "metadata": {},
   "outputs": [],
   "source": [
    "# Imports for data handling and graph analysis\n",
    "import pandas as pd\n",
    "import networkx as nx\n",
    "\n",
    "# For date handling\n",
    "from datetime import datetime\n"
   ]
  },
  {
   "cell_type": "markdown",
   "id": "1373bef0",
   "metadata": {},
   "source": [
    "## 2. Identifier Normalization\n",
    "Define a function to normalize identifiers (ACN/ABN), e.g., remove spaces or standardize formats."
   ]
  },
  {
   "cell_type": "code",
   "execution_count": 2,
   "id": "1076dc8b",
   "metadata": {},
   "outputs": [],
   "source": [
    "# Function to normalize ACN/ABN by removing spaces\n",
    "def normalize_id(val):\n",
    "    \"\"\"Normalize identifier strings by stripping spaces. Modify if further formatting needed.\"\"\"\n",
    "    if isinstance(val, str):\n",
    "        return val.replace(' ', '')\n",
    "    return val\n"
   ]
  },
  {
   "cell_type": "markdown",
   "id": "f538849c",
   "metadata": {},
   "source": [
    "## 3. Example DataFrames\n",
    "Create illustrative example DataFrames for ASIC directors, ABR records, complaints, inspections, and investigations. We also add a synthetic phoenixing example: a director moves from Company A to Company B shortly after cessation."
   ]
  },
  {
   "cell_type": "code",
   "execution_count": 3,
   "id": "36181ac6",
   "metadata": {},
   "outputs": [
    {
     "name": "stdout",
     "output_type": "stream",
     "text": [
      "ASIC directors example:\n"
     ]
    },
    {
     "data": {
      "text/html": [
       "<div>\n",
       "<style scoped>\n",
       "    .dataframe tbody tr th:only-of-type {\n",
       "        vertical-align: middle;\n",
       "    }\n",
       "\n",
       "    .dataframe tbody tr th {\n",
       "        vertical-align: top;\n",
       "    }\n",
       "\n",
       "    .dataframe thead th {\n",
       "        text-align: right;\n",
       "    }\n",
       "</style>\n",
       "<table border=\"1\" class=\"dataframe\">\n",
       "  <thead>\n",
       "    <tr style=\"text-align: right;\">\n",
       "      <th></th>\n",
       "      <th>ACN</th>\n",
       "      <th>CompanyName</th>\n",
       "      <th>DirectorName</th>\n",
       "      <th>AppointmentDate</th>\n",
       "      <th>CessationDate</th>\n",
       "    </tr>\n",
       "  </thead>\n",
       "  <tbody>\n",
       "    <tr>\n",
       "      <th>0</th>\n",
       "      <td>123456789</td>\n",
       "      <td>ABC Pty Ltd</td>\n",
       "      <td>John Smith</td>\n",
       "      <td>2020-05-15</td>\n",
       "      <td>None</td>\n",
       "    </tr>\n",
       "    <tr>\n",
       "      <th>1</th>\n",
       "      <td>987654321</td>\n",
       "      <td>XYZ Holdings Pty Ltd</td>\n",
       "      <td>Jane Doe</td>\n",
       "      <td>2018-03-10</td>\n",
       "      <td>2023-11-30</td>\n",
       "    </tr>\n",
       "    <tr>\n",
       "      <th>2</th>\n",
       "      <td>111222333</td>\n",
       "      <td>OldCo Pty Ltd</td>\n",
       "      <td>Alice Phoenix</td>\n",
       "      <td>2019-06-01</td>\n",
       "      <td>2024-01-31</td>\n",
       "    </tr>\n",
       "    <tr>\n",
       "      <th>3</th>\n",
       "      <td>444555666</td>\n",
       "      <td>NewCo Pty Ltd</td>\n",
       "      <td>Alice Phoenix</td>\n",
       "      <td>2024-03-15</td>\n",
       "      <td>None</td>\n",
       "    </tr>\n",
       "  </tbody>\n",
       "</table>\n",
       "</div>"
      ],
      "text/plain": [
       "         ACN           CompanyName   DirectorName AppointmentDate  \\\n",
       "0  123456789           ABC Pty Ltd     John Smith      2020-05-15   \n",
       "1  987654321  XYZ Holdings Pty Ltd       Jane Doe      2018-03-10   \n",
       "2  111222333         OldCo Pty Ltd  Alice Phoenix      2019-06-01   \n",
       "3  444555666         NewCo Pty Ltd  Alice Phoenix      2024-03-15   \n",
       "\n",
       "  CessationDate  \n",
       "0          None  \n",
       "1    2023-11-30  \n",
       "2    2024-01-31  \n",
       "3          None  "
      ]
     },
     "metadata": {},
     "output_type": "display_data"
    },
    {
     "name": "stdout",
     "output_type": "stream",
     "text": [
      "ABR example:\n"
     ]
    },
    {
     "data": {
      "text/html": [
       "<div>\n",
       "<style scoped>\n",
       "    .dataframe tbody tr th:only-of-type {\n",
       "        vertical-align: middle;\n",
       "    }\n",
       "\n",
       "    .dataframe tbody tr th {\n",
       "        vertical-align: top;\n",
       "    }\n",
       "\n",
       "    .dataframe thead th {\n",
       "        text-align: right;\n",
       "    }\n",
       "</style>\n",
       "<table border=\"1\" class=\"dataframe\">\n",
       "  <thead>\n",
       "    <tr style=\"text-align: right;\">\n",
       "      <th></th>\n",
       "      <th>ABN</th>\n",
       "      <th>LegalName</th>\n",
       "      <th>BusinessNames</th>\n",
       "      <th>TradingNames</th>\n",
       "      <th>State</th>\n",
       "      <th>Postcode</th>\n",
       "      <th>ACN</th>\n",
       "      <th>GSTStatus</th>\n",
       "      <th>RegistrationDate</th>\n",
       "    </tr>\n",
       "  </thead>\n",
       "  <tbody>\n",
       "    <tr>\n",
       "      <th>0</th>\n",
       "      <td>12345678901</td>\n",
       "      <td>Alpha Innovations Pty Ltd</td>\n",
       "      <td>[Alpha Innovations]</td>\n",
       "      <td>[Alpha Tech]</td>\n",
       "      <td>NSW</td>\n",
       "      <td>2000</td>\n",
       "      <td>123456789</td>\n",
       "      <td>Active</td>\n",
       "      <td>2019-07-01</td>\n",
       "    </tr>\n",
       "    <tr>\n",
       "      <th>1</th>\n",
       "      <td>98765432109</td>\n",
       "      <td>Beta Services Pty Ltd</td>\n",
       "      <td>[Beta Services]</td>\n",
       "      <td>[Beta Consulting]</td>\n",
       "      <td>NSW</td>\n",
       "      <td>2140</td>\n",
       "      <td>987654321</td>\n",
       "      <td>Active</td>\n",
       "      <td>2021-02-15</td>\n",
       "    </tr>\n",
       "    <tr>\n",
       "      <th>2</th>\n",
       "      <td>11122233344</td>\n",
       "      <td>OldCo Pty Ltd</td>\n",
       "      <td>[OldCo]</td>\n",
       "      <td>[OldCo Services]</td>\n",
       "      <td>NSW</td>\n",
       "      <td>2100</td>\n",
       "      <td>111222333</td>\n",
       "      <td>Inactive</td>\n",
       "      <td>2019-06-01</td>\n",
       "    </tr>\n",
       "    <tr>\n",
       "      <th>3</th>\n",
       "      <td>44455566677</td>\n",
       "      <td>NewCo Pty Ltd</td>\n",
       "      <td>[NewCo]</td>\n",
       "      <td>[NewCo Solutions]</td>\n",
       "      <td>NSW</td>\n",
       "      <td>2100</td>\n",
       "      <td>444555666</td>\n",
       "      <td>Active</td>\n",
       "      <td>2024-03-15</td>\n",
       "    </tr>\n",
       "  </tbody>\n",
       "</table>\n",
       "</div>"
      ],
      "text/plain": [
       "           ABN                  LegalName        BusinessNames  \\\n",
       "0  12345678901  Alpha Innovations Pty Ltd  [Alpha Innovations]   \n",
       "1  98765432109      Beta Services Pty Ltd      [Beta Services]   \n",
       "2  11122233344              OldCo Pty Ltd              [OldCo]   \n",
       "3  44455566677              NewCo Pty Ltd              [NewCo]   \n",
       "\n",
       "        TradingNames State Postcode        ACN GSTStatus RegistrationDate  \n",
       "0       [Alpha Tech]   NSW     2000  123456789    Active       2019-07-01  \n",
       "1  [Beta Consulting]   NSW     2140  987654321    Active       2021-02-15  \n",
       "2   [OldCo Services]   NSW     2100  111222333  Inactive       2019-06-01  \n",
       "3  [NewCo Solutions]   NSW     2100  444555666    Active       2024-03-15  "
      ]
     },
     "metadata": {},
     "output_type": "display_data"
    }
   ],
   "source": [
    "# Example ASIC directors/officers data including a phoenix scenario\n",
    "asic_directors_example = pd.DataFrame([\n",
    "    # Existing example companies\n",
    "    {'ACN': '123456789', 'CompanyName': 'ABC Pty Ltd', 'DirectorName': 'John Smith', 'AppointmentDate': '2020-05-15', 'CessationDate': None},\n",
    "    {'ACN': '987654321', 'CompanyName': 'XYZ Holdings Pty Ltd', 'DirectorName': 'Jane Doe', 'AppointmentDate': '2018-03-10', 'CessationDate': '2023-11-30'},\n",
    "    # Synthetic phoenix example:\n",
    "    # Company A with director Alice Phoenix ceasing on 2024-01-31\n",
    "    {'ACN': '111222333', 'CompanyName': 'OldCo Pty Ltd', 'DirectorName': 'Alice Phoenix', 'AppointmentDate': '2019-06-01', 'CessationDate': '2024-01-31'},\n",
    "    # Company B where the same director is appointed soon after (within 6 months)\n",
    "    {'ACN': '444555666', 'CompanyName': 'NewCo Pty Ltd', 'DirectorName': 'Alice Phoenix', 'AppointmentDate': '2024-03-15', 'CessationDate': None},\n",
    "])\n",
    "\n",
    "# Example ABR data\n",
    "abr_example = pd.DataFrame([\n",
    "    {'ABN': '12 345 678 901', 'LegalName': 'Alpha Innovations Pty Ltd', 'BusinessNames': ['Alpha Innovations'], 'TradingNames': ['Alpha Tech'], 'State': 'NSW', 'Postcode': '2000', 'ACN': '123456789', 'GSTStatus': 'Active', 'RegistrationDate': '2019-07-01'},\n",
    "    {'ABN': '98 765 432 109', 'LegalName': 'Beta Services Pty Ltd', 'BusinessNames': ['Beta Services'], 'TradingNames': ['Beta Consulting'], 'State': 'NSW', 'Postcode': '2140', 'ACN': '987654321', 'GSTStatus': 'Active', 'RegistrationDate': '2021-02-15'},\n",
    "    # ABR entries for synthetic phoenix example\n",
    "    {'ABN': '11 122 233 344', 'LegalName': 'OldCo Pty Ltd', 'BusinessNames': ['OldCo'], 'TradingNames': ['OldCo Services'], 'State': 'NSW', 'Postcode': '2100', 'ACN': '111222333', 'GSTStatus': 'Inactive', 'RegistrationDate': '2019-06-01'},\n",
    "    {'ABN': '44 455 566 677', 'LegalName': 'NewCo Pty Ltd', 'BusinessNames': ['NewCo'], 'TradingNames': ['NewCo Solutions'], 'State': 'NSW', 'Postcode': '2100', 'ACN': '444555666', 'GSTStatus': 'Active', 'RegistrationDate': '2024-03-15'},\n",
    "])\n",
    "\n",
    "# Example complaints data\n",
    "complaints_example = pd.DataFrame([\n",
    "    {'ComplaintID': 'C202401001', 'BusinessName': 'ABC Pty Ltd', 'ABN': '12 345 678 901', 'DateReceived': '2024-06-01', 'IssueCategory': 'Product quality', 'Status': 'Resolved'},\n",
    "    {'ComplaintID': 'C202402015', 'BusinessName': 'XYZ Holdings Pty Ltd', 'ABN': '98 765 432 109', 'DateReceived': '2024-05-20', 'IssueCategory': 'Misleading advertising', 'Status': 'Under investigation'},\n",
    "    # Complaint on OldCo\n",
    "    {'ComplaintID': 'C202403050', 'BusinessName': 'OldCo Pty Ltd', 'ABN': '11 122 233 344', 'DateReceived': '2024-02-10', 'IssueCategory': 'Non-payment', 'Status': 'Under investigation'},\n",
    "])\n",
    "\n",
    "# Example inspections data\n",
    "inspections_example = pd.DataFrame([\n",
    "    {'InspectionID': 'I20230101', 'BusinessName': 'ABC Pty Ltd', 'ABN': '12 345 678 901', 'InspectionDate': '2023-10-15', 'Location': 'Sydney', 'Outcome': 'Compliant', 'InspectorName': 'Alice Brown', 'Notes': 'No issues found'},\n",
    "    {'InspectionID': 'I20230202', 'BusinessName': 'Beta Services Pty Ltd', 'ABN': '98 765 432 109', 'InspectionDate': '2024-03-22', 'Location': 'Parramatta', 'Outcome': 'Non-compliant', 'InspectorName': 'Bob Green', 'Notes': 'Labeling issues'},\n",
    "    # Inspection on OldCo flagged issues\n",
    "    {'InspectionID': 'I20240115', 'BusinessName': 'OldCo Pty Ltd', 'ABN': '11 122 233 344', 'InspectionDate': '2024-01-20', 'Location': 'Newcastle', 'Outcome': 'Non-compliant', 'InspectorName': 'Carol White', 'Notes': 'Financial irregularities'},\n",
    "])\n",
    "\n",
    "# Example investigations data\n",
    "investigations_example = pd.DataFrame([\n",
    "    {'InvestigationID': 'INV2024001', 'BusinessName': 'XYZ Holdings Pty Ltd', 'ABN': '98 765 432 109', 'StartDate': '2024-05-25', 'EndDate': None, 'Outcome': 'Ongoing', 'RelatedEntities': ['Alpha Innovations Pty Ltd']},\n",
    "    {'InvestigationID': 'INV2023005', 'BusinessName': 'Gamma Trading Pty Ltd', 'ABN': '11 222 333 444', 'StartDate': '2023-01-10', 'EndDate': '2023-12-05', 'Outcome': 'Enforcement action taken', 'RelatedEntities': []},\n",
    "    # Investigation on OldCo before phoenix\n",
    "    {'InvestigationID': 'INV2024010', 'BusinessName': 'OldCo Pty Ltd', 'ABN': '11 122 233 344', 'StartDate': '2024-02-15', 'EndDate': None, 'Outcome': 'Ongoing', 'RelatedEntities': []},\n",
    "])\n",
    "\n",
    "# Normalize IDs in example DataFrames\n",
    "for df, col in [(asic_directors_example, 'ACN'), (abr_example, 'ACN'), (abr_example, 'ABN'),\n",
    "                (complaints_example, 'ABN'), (inspections_example, 'ABN'), (investigations_example, 'ABN')]:\n",
    "    df[col] = df[col].apply(normalize_id)\n",
    "\n",
    "# Display examples (optional) to verify\n",
    "print('ASIC directors example:'); display(asic_directors_example)\n",
    "print('ABR example:'); display(abr_example)\n"
   ]
  },
  {
   "cell_type": "markdown",
   "id": "5adabac3",
   "metadata": {},
   "source": [
    "## 4. Single View Function\n",
    "Define and demonstrate a function to aggregate all known data about an entity."
   ]
  },
  {
   "cell_type": "code",
   "execution_count": 11,
   "id": "d7ea42fc",
   "metadata": {},
   "outputs": [],
   "source": [
    "# Single view function aggregates data by ACN or ABN\n",
    "def get_single_view(acn=None, abn=None):\n",
    "    \"\"\"Return aggregated info for an entity by ACN or ABN.\"\"\"\n",
    "    result = {}\n",
    "    # If ACN provided: fetch ASIC and ABR info\n",
    "    if acn:\n",
    "        acn_norm = normalize_id(acn)\n",
    "        # ASIC: get first company name\n",
    "        df_dir = asic_directors_example[asic_directors_example['ACN'] == acn_norm]\n",
    "        if not df_dir.empty:\n",
    "            result['CompanyName_ASIC'] = df_dir.iloc[0]['CompanyName']\n",
    "        # ABR: fetch legal and trading names\n",
    "        df_abr = abr_example[abr_example['ACN'] == acn_norm]\n",
    "        if not df_abr.empty:\n",
    "            abr_row = df_abr.iloc[0]\n",
    "            result.update({\n",
    "                'LegalName_ABR': abr_row['LegalName'],\n",
    "                'BusinessNames': abr_row['BusinessNames'],\n",
    "                'TradingNames': abr_row['TradingNames'],\n",
    "                'ABN': abr_row['ABN'],\n",
    "                'State': abr_row['State'],\n",
    "                'Postcode': abr_row['Postcode'],\n",
    "                'GSTStatus': abr_row['GSTStatus'],\n",
    "                'RegistrationDate': abr_row['RegistrationDate']\n",
    "            })\n",
    "        else:\n",
    "            result['ABR_record'] = 'Not found'\n",
    "    # If ABN provided: fetch ABR and related datasets\n",
    "    if abn:\n",
    "        abn_norm = normalize_id(abn)\n",
    "        df_abr2 = abr_example[abr_example['ABN'] == abn_norm]\n",
    "        if not df_abr2.empty:\n",
    "            abr_row2 = df_abr2.iloc[0]\n",
    "            result.setdefault('LegalName_ABR', abr_row2['LegalName'])\n",
    "            result.setdefault('BusinessNames', abr_row2['BusinessNames'])\n",
    "            result.setdefault('TradingNames', abr_row2['TradingNames'])\n",
    "            result.setdefault('ACN', abr_row2['ACN'])\n",
    "            result.setdefault('State', abr_row2['State'])\n",
    "            result.setdefault('Postcode', abr_row2['Postcode'])\n",
    "            result.setdefault('GSTStatus', abr_row2['GSTStatus'])\n",
    "            result.setdefault('RegistrationDate', abr_row2['RegistrationDate'])\n",
    "        else:\n",
    "            result['ABR_record'] = 'Not found'\n",
    "        # Complaints\n",
    "        df_com = complaints_example[complaints_example['ABN'] == abn_norm]\n",
    "        result['Complaints'] = df_com.to_dict(orient='records') if not df_com.empty else []\n",
    "        # Inspections\n",
    "        df_ins = inspections_example[inspections_example['ABN'] == abn_norm]\n",
    "        result['Inspections'] = df_ins.to_dict(orient='records') if not df_ins.empty else []\n",
    "        # Investigations\n",
    "        df_inv = investigations_example[investigations_example['ABN'] == abn_norm]\n",
    "        result['Investigations'] = df_inv.to_dict(orient='records') if not df_inv.empty else []\n",
    "    # Directors if ACN known\n",
    "    if 'ACN' in result:\n",
    "        df_dir2 = asic_directors_example[asic_directors_example['ACN'] == normalize_id(result['ACN'])]\n",
    "        result['Directors'] = df_dir2.to_dict(orient='records') if not df_dir2.empty else []\n",
    "    return result\n"
   ]
  },
  {
   "cell_type": "markdown",
   "id": "96c5333e",
   "metadata": {},
   "source": [
    "### Demonstrate Single View\n",
    "Example: get single view for OldCo (synthetic phoenix case) and NewCo."
   ]
  },
  {
   "cell_type": "code",
   "execution_count": 12,
   "id": "99b5e181",
   "metadata": {},
   "outputs": [
    {
     "name": "stdout",
     "output_type": "stream",
     "text": [
      "Single view for OldCo Pty Ltd:\n",
      "Single view for NewCo Pty Ltd:\n"
     ]
    },
    {
     "data": {
      "text/plain": [
       "{'CompanyName_ASIC': 'NewCo Pty Ltd',\n",
       " 'LegalName_ABR': 'NewCo Pty Ltd',\n",
       " 'BusinessNames': ['NewCo'],\n",
       " 'TradingNames': ['NewCo Solutions'],\n",
       " 'ABN': '44455566677',\n",
       " 'State': 'NSW',\n",
       " 'Postcode': '2100',\n",
       " 'GSTStatus': 'Active',\n",
       " 'RegistrationDate': '2024-03-15'}"
      ]
     },
     "execution_count": 12,
     "metadata": {},
     "output_type": "execute_result"
    }
   ],
   "source": [
    "# Single view for OldCo via ABN\n",
    "sv_oldco = get_single_view(abn='11 122 233 344')\n",
    "print('Single view for OldCo Pty Ltd:')\n",
    "sv_oldco\n",
    "\n",
    "# Single view for NewCo via ACN\n",
    "sv_newco = get_single_view(acn='444555666')\n",
    "print('Single view for NewCo Pty Ltd:')\n",
    "sv_newco\n"
   ]
  },
  {
   "cell_type": "markdown",
   "id": "a35525c9",
   "metadata": {},
   "source": [
    "## 5. Relationship Graph\n",
    "Build a graph of companies and directors to analyze shared relationships."
   ]
  },
  {
   "cell_type": "code",
   "execution_count": 13,
   "id": "39490e77",
   "metadata": {},
   "outputs": [],
   "source": [
    "# Build relationship graph: nodes are companies (ACN) and persons (DirectorName)\n",
    "def build_relationship_graph():\n",
    "    G = nx.Graph()\n",
    "    for _, row in asic_directors_example.iterrows():\n",
    "        comp_node = f\"ACN:{normalize_id(row['ACN'])}\"\n",
    "        person_node = f\"Person:{row['DirectorName']}\"\n",
    "        # Add nodes with type metadata\n",
    "        G.add_node(comp_node, type='company')\n",
    "        G.add_node(person_node, type='person')\n",
    "        # Add edge with appointment and cessation dates for temporal analysis\n",
    "        G.add_edge(comp_node, person_node,\n",
    "                   relation='director',\n",
    "                   appointment=row['AppointmentDate'],\n",
    "                   cessation=row['CessationDate'])\n",
    "    return G\n"
   ]
  },
  {
   "cell_type": "markdown",
   "id": "c29813bc",
   "metadata": {},
   "source": [
    "### Finding Related Entities\n",
    "Define a function to find companies sharing directors with a given ACN."
   ]
  },
  {
   "cell_type": "code",
   "execution_count": 14,
   "id": "7c36bf8d",
   "metadata": {},
   "outputs": [],
   "source": [
    "def find_related_entities(graph, acn):\n",
    "    \"\"\"Return ACNs of companies related via shared directors.\"\"\"\n",
    "    node = f\"ACN:{normalize_id(acn)}\"\n",
    "    related = set()\n",
    "    if not graph.has_node(node):\n",
    "        return related\n",
    "    # For each director connected to the company\n",
    "    for person in graph.neighbors(node):\n",
    "        # For each other company that director is connected to\n",
    "        for nbr in graph.neighbors(person):\n",
    "            if nbr.startswith('ACN:') and nbr != node:\n",
    "                related.add(nbr.replace('ACN:', ''))\n",
    "    return related\n"
   ]
  },
  {
   "cell_type": "markdown",
   "id": "726c3ba9",
   "metadata": {},
   "source": [
    "### Demonstrate Related Entities\n",
    "Check related companies for OldCo and NewCo in the phoenix example."
   ]
  },
  {
   "cell_type": "code",
   "execution_count": 8,
   "id": "e2ad14db",
   "metadata": {},
   "outputs": [
    {
     "name": "stdout",
     "output_type": "stream",
     "text": [
      "Companies related to OldCo (shared directors): {'444555666'}\n",
      "Companies related to NewCo (shared directors): {'111222333'}\n"
     ]
    }
   ],
   "source": [
    "G = build_relationship_graph()\n",
    "related_oldco = find_related_entities(G, acn='111222333')\n",
    "print('Companies related to OldCo (shared directors):', related_oldco)\n",
    "related_newco = find_related_entities(G, acn='444555666')\n",
    "print('Companies related to NewCo (shared directors):', related_newco)\n"
   ]
  },
  {
   "cell_type": "markdown",
   "id": "4bf40640",
   "metadata": {},
   "source": [
    "## 6. Phoenix Pattern Detection\n",
    "Define and demonstrate detection of phoenix-like behavior based on director movements."
   ]
  },
  {
   "cell_type": "code",
   "execution_count": 15,
   "id": "c30a1389",
   "metadata": {},
   "outputs": [],
   "source": [
    "# Function to detect phoenix candidates based on director appointment/cessation\n",
    "def detect_phoenix_candidates(asic_df, window_days=180):\n",
    "    \"\"\"Identify director movements suggesting phoenix behavior within window_days.\"\"\"\n",
    "    df = asic_df.copy()\n",
    "    # Parse date columns\n",
    "    df['AppointmentDate'] = pd.to_datetime(df['AppointmentDate'])\n",
    "    df['CessationDate'] = pd.to_datetime(df['CessationDate'], errors='coerce')\n",
    "    candidates = []\n",
    "    # Group by director to examine their company movements\n",
    "    for person, group in df.groupby('DirectorName'):\n",
    "        group_sorted = group.sort_values('AppointmentDate')\n",
    "        # For each past company appointment\n",
    "        for i, row_a in group_sorted.iterrows():\n",
    "            if pd.isna(row_a['CessationDate']):\n",
    "                # If still active, skip as a potential old company\n",
    "                continue\n",
    "            cease_date = row_a['CessationDate']\n",
    "            # Look for later appointments after cessation\n",
    "            later = group_sorted[group_sorted['AppointmentDate'] > cease_date]\n",
    "            for j, row_b in later.iterrows():\n",
    "                # If appointment within window_days after cessation\n",
    "                if (row_b['AppointmentDate'] - cease_date).days <= window_days:\n",
    "                    candidates.append({\n",
    "                        'Director': person,\n",
    "                        'OldACN': row_a['ACN'],\n",
    "                        'NewACN': row_b['ACN'],\n",
    "                        'CessationDate': cease_date.date(),\n",
    "                        'NewAppointmentDate': row_b['AppointmentDate'].date()\n",
    "                    })\n",
    "    return pd.DataFrame(candidates)\n"
   ]
  },
  {
   "cell_type": "markdown",
   "id": "8b723ce9",
   "metadata": {},
   "source": [
    "### Demonstrate Phoenix Detection\n",
    "Run detection on the example data to identify the synthetic phoenix scenario."
   ]
  },
  {
   "cell_type": "code",
   "execution_count": 10,
   "id": "18b4dc23",
   "metadata": {},
   "outputs": [
    {
     "name": "stdout",
     "output_type": "stream",
     "text": [
      "Phoenix candidates identified:\n"
     ]
    },
    {
     "data": {
      "text/html": [
       "<div>\n",
       "<style scoped>\n",
       "    .dataframe tbody tr th:only-of-type {\n",
       "        vertical-align: middle;\n",
       "    }\n",
       "\n",
       "    .dataframe tbody tr th {\n",
       "        vertical-align: top;\n",
       "    }\n",
       "\n",
       "    .dataframe thead th {\n",
       "        text-align: right;\n",
       "    }\n",
       "</style>\n",
       "<table border=\"1\" class=\"dataframe\">\n",
       "  <thead>\n",
       "    <tr style=\"text-align: right;\">\n",
       "      <th></th>\n",
       "      <th>Director</th>\n",
       "      <th>OldACN</th>\n",
       "      <th>NewACN</th>\n",
       "      <th>CessationDate</th>\n",
       "      <th>NewAppointmentDate</th>\n",
       "    </tr>\n",
       "  </thead>\n",
       "  <tbody>\n",
       "    <tr>\n",
       "      <th>0</th>\n",
       "      <td>Alice Phoenix</td>\n",
       "      <td>111222333</td>\n",
       "      <td>444555666</td>\n",
       "      <td>2024-01-31</td>\n",
       "      <td>2024-03-15</td>\n",
       "    </tr>\n",
       "  </tbody>\n",
       "</table>\n",
       "</div>"
      ],
      "text/plain": [
       "        Director     OldACN     NewACN CessationDate NewAppointmentDate\n",
       "0  Alice Phoenix  111222333  444555666    2024-01-31         2024-03-15"
      ]
     },
     "execution_count": 10,
     "metadata": {},
     "output_type": "execute_result"
    }
   ],
   "source": [
    "# Detect phoenix candidates in example data\n",
    "phoenix_df = detect_phoenix_candidates(asic_directors_example)\n",
    "print('Phoenix candidates identified:')\n",
    "phoenix_df\n"
   ]
  },
  {
   "cell_type": "markdown",
   "id": "95e9c834",
   "metadata": {},
   "source": [
    "## 7. Interpretation of Results\n",
    "- The `phoenix_df` should show Alice Phoenix moving from OldCo Pty Ltd (ACN 111222333) to NewCo Pty Ltd (ACN 444555666) within the specified window.\n",
    "- The relationship graph will show that OldCo and NewCo share the director Alice Phoenix.\n",
    "\n",
    "Investigators can use these outputs to:\n",
    "- Review the single views for both entities (e.g., OldCo had non-compliant inspections and ongoing investigations; NewCo is newly registered under the same director).\n",
    "- Examine network links and temporal patterns for further risk scoring.\n"
   ]
  },
  {
   "cell_type": "markdown",
   "id": "c9d0a127",
   "metadata": {},
   "source": [
    "## 8. Next Steps for Production\n",
    "1. Replace example DataFrames with data loaded from actual databases or APIs.\n",
    "2. Enhance `get_single_view` to include summary metrics (e.g., counts, last action dates, risk flags).\n",
    "3. Expand graph: add additional edges for shareholdings, common addresses, investigations linking multiple entities.\n",
    "4. Store graph in a scalable graph database (e.g., Neo4j) for real-time queries and visualization.\n",
    "5. Integrate alerting: schedule regular checks for new phoenix patterns or clusters of concern.\n",
    "6. Provide an interactive dashboard for Intelligence, Compliance & Investigations teams.\n"
   ]
  }
 ],
 "metadata": {
  "kernelspec": {
   "display_name": "Python 3",
   "language": "python",
   "name": "python3"
  },
  "language_info": {
   "codemirror_mode": {
    "name": "ipython",
    "version": 3
   },
   "file_extension": ".py",
   "mimetype": "text/x-python",
   "name": "python",
   "nbconvert_exporter": "python",
   "pygments_lexer": "ipython3",
   "version": "3.12.1"
  }
 },
 "nbformat": 4,
 "nbformat_minor": 5
}
